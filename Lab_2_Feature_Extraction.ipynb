{
  "nbformat": 4,
  "nbformat_minor": 0,
  "metadata": {
    "colab": {
      "name": "Lab 2 - Feature Extraction.ipynb",
      "provenance": [],
      "authorship_tag": "ABX9TyNy/j4su4KjkaR5ssulvBl2",
      "include_colab_link": true
    },
    "kernelspec": {
      "name": "python3",
      "display_name": "Python 3"
    },
    "language_info": {
      "name": "python"
    }
  },
  "cells": [
    {
      "cell_type": "markdown",
      "metadata": {
        "id": "view-in-github",
        "colab_type": "text"
      },
      "source": [
        "<a href=\"https://colab.research.google.com/github/kev1092/Lab2-CV-course-HH/blob/main/Lab_2_Feature_Extraction.ipynb\" target=\"_parent\"><img src=\"https://colab.research.google.com/assets/colab-badge.svg\" alt=\"Open In Colab\"/></a>"
      ]
    },
    {
      "cell_type": "code",
      "execution_count": null,
      "metadata": {
        "id": "FwLE4SDJfkHv"
      },
      "outputs": [],
      "source": [
        "! git clone https://github.com/kev1092/Lab2-CV-course-HH"
      ]
    },
    {
      "cell_type": "code",
      "source": [
        "import numpy as np\n",
        "import cv2\n",
        "import matplotlib.pyplot as plt"
      ],
      "metadata": {
        "id": "H2PBPW9bDNAd"
      },
      "execution_count": null,
      "outputs": []
    },
    {
      "cell_type": "markdown",
      "source": [
        "# Lab 2: Feature Extraction\n",
        "\n",
        "In computer vision, feature extraction refers to the process of compressing/abstracting the information from a given image into a reduced vector form, called feature vector.\n",
        "\n",
        "In this lab, we will focus on object recognition applications. Virtually any object recognition application would do feature extraction in order to understand the content of the image and generate a useful set of features able to describe it as best as possible. This feature vector can then be used to recognize and identify objects in a much easier way than doing direct pixel comparison.\n",
        "\n",
        "There are many different algorithms to do feature extraction, depending on the type of features that it focus on, if it describes the image as a whole or just local information, or just different strategies for the same goal.\n",
        "\n",
        "In this lab we will focus on two different types of feature extraction algorithms, local and global descriptors."
      ],
      "metadata": {
        "id": "QTjSoqcDDRGc"
      }
    },
    {
      "cell_type": "markdown",
      "source": [
        "## Local Descriptors\n",
        "\n",
        "Loc"
      ],
      "metadata": {
        "id": "Ygk6J79hagc7"
      }
    }
  ]
}